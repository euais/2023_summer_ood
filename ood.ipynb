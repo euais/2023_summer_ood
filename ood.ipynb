{
  "nbformat": 4,
  "nbformat_minor": 0,
  "metadata": {
    "colab": {
      "provenance": [],
      "gpuType": "T4"
    },
    "kernelspec": {
      "name": "python3",
      "display_name": "Python 3"
    },
    "language_info": {
      "name": "python"
    },
    "accelerator": "GPU"
  },
  "cells": [
    {
      "cell_type": "code",
      "execution_count": 1,
      "metadata": {
        "colab": {
          "base_uri": "https://localhost:8080/"
        },
        "id": "zbgR62HCXyLh",
        "outputId": "d94843df-0a1e-4503-90be-322027079162"
      },
      "outputs": [
        {
          "output_type": "stream",
          "name": "stdout",
          "text": [
            "Collecting pytorch-ood\n",
            "  Downloading pytorch_ood-0.1.6-py3-none-any.whl (123 kB)\n",
            "\u001b[2K     \u001b[90m━━━━━━━━━━━━━━━━━━━━━━━━━━━━━━━━━━━━━━━\u001b[0m \u001b[32m123.3/123.3 kB\u001b[0m \u001b[31m2.9 MB/s\u001b[0m eta \u001b[36m0:00:00\u001b[0m\n",
            "\u001b[?25hRequirement already satisfied: torch>=1.7.0 in /usr/local/lib/python3.10/dist-packages (from pytorch-ood) (2.0.1+cu118)\n",
            "Requirement already satisfied: torchvision>=0.12.0 in /usr/local/lib/python3.10/dist-packages (from pytorch-ood) (0.15.2+cu118)\n",
            "Collecting torchmetrics>=1.0.0 (from pytorch-ood)\n",
            "  Downloading torchmetrics-1.1.1-py3-none-any.whl (763 kB)\n",
            "\u001b[2K     \u001b[90m━━━━━━━━━━━━━━━━━━━━━━━━━━━━━━━━━━━━━━━\u001b[0m \u001b[32m763.4/763.4 kB\u001b[0m \u001b[31m9.2 MB/s\u001b[0m eta \u001b[36m0:00:00\u001b[0m\n",
            "\u001b[?25hRequirement already satisfied: scipy>=1.7.0 in /usr/local/lib/python3.10/dist-packages (from pytorch-ood) (1.10.1)\n",
            "Requirement already satisfied: numpy>=1.23.0 in /usr/local/lib/python3.10/dist-packages (from pytorch-ood) (1.23.5)\n",
            "Requirement already satisfied: filelock in /usr/local/lib/python3.10/dist-packages (from torch>=1.7.0->pytorch-ood) (3.12.2)\n",
            "Requirement already satisfied: typing-extensions in /usr/local/lib/python3.10/dist-packages (from torch>=1.7.0->pytorch-ood) (4.7.1)\n",
            "Requirement already satisfied: sympy in /usr/local/lib/python3.10/dist-packages (from torch>=1.7.0->pytorch-ood) (1.12)\n",
            "Requirement already satisfied: networkx in /usr/local/lib/python3.10/dist-packages (from torch>=1.7.0->pytorch-ood) (3.1)\n",
            "Requirement already satisfied: jinja2 in /usr/local/lib/python3.10/dist-packages (from torch>=1.7.0->pytorch-ood) (3.1.2)\n",
            "Requirement already satisfied: triton==2.0.0 in /usr/local/lib/python3.10/dist-packages (from torch>=1.7.0->pytorch-ood) (2.0.0)\n",
            "Requirement already satisfied: cmake in /usr/local/lib/python3.10/dist-packages (from triton==2.0.0->torch>=1.7.0->pytorch-ood) (3.27.2)\n",
            "Requirement already satisfied: lit in /usr/local/lib/python3.10/dist-packages (from triton==2.0.0->torch>=1.7.0->pytorch-ood) (16.0.6)\n",
            "Collecting lightning-utilities>=0.8.0 (from torchmetrics>=1.0.0->pytorch-ood)\n",
            "  Downloading lightning_utilities-0.9.0-py3-none-any.whl (23 kB)\n",
            "Requirement already satisfied: requests in /usr/local/lib/python3.10/dist-packages (from torchvision>=0.12.0->pytorch-ood) (2.31.0)\n",
            "Requirement already satisfied: pillow!=8.3.*,>=5.3.0 in /usr/local/lib/python3.10/dist-packages (from torchvision>=0.12.0->pytorch-ood) (9.4.0)\n",
            "Requirement already satisfied: packaging>=17.1 in /usr/local/lib/python3.10/dist-packages (from lightning-utilities>=0.8.0->torchmetrics>=1.0.0->pytorch-ood) (23.1)\n",
            "Requirement already satisfied: MarkupSafe>=2.0 in /usr/local/lib/python3.10/dist-packages (from jinja2->torch>=1.7.0->pytorch-ood) (2.1.3)\n",
            "Requirement already satisfied: charset-normalizer<4,>=2 in /usr/local/lib/python3.10/dist-packages (from requests->torchvision>=0.12.0->pytorch-ood) (3.2.0)\n",
            "Requirement already satisfied: idna<4,>=2.5 in /usr/local/lib/python3.10/dist-packages (from requests->torchvision>=0.12.0->pytorch-ood) (3.4)\n",
            "Requirement already satisfied: urllib3<3,>=1.21.1 in /usr/local/lib/python3.10/dist-packages (from requests->torchvision>=0.12.0->pytorch-ood) (2.0.4)\n",
            "Requirement already satisfied: certifi>=2017.4.17 in /usr/local/lib/python3.10/dist-packages (from requests->torchvision>=0.12.0->pytorch-ood) (2023.7.22)\n",
            "Requirement already satisfied: mpmath>=0.19 in /usr/local/lib/python3.10/dist-packages (from sympy->torch>=1.7.0->pytorch-ood) (1.3.0)\n",
            "Installing collected packages: lightning-utilities, torchmetrics, pytorch-ood\n",
            "Successfully installed lightning-utilities-0.9.0 pytorch-ood-0.1.6 torchmetrics-1.1.1\n",
            "Requirement already satisfied: pandas in /usr/local/lib/python3.10/dist-packages (1.5.3)\n",
            "Requirement already satisfied: scikit-learn in /usr/local/lib/python3.10/dist-packages (1.2.2)\n",
            "Requirement already satisfied: python-dateutil>=2.8.1 in /usr/local/lib/python3.10/dist-packages (from pandas) (2.8.2)\n",
            "Requirement already satisfied: pytz>=2020.1 in /usr/local/lib/python3.10/dist-packages (from pandas) (2023.3)\n",
            "Requirement already satisfied: numpy>=1.21.0 in /usr/local/lib/python3.10/dist-packages (from pandas) (1.23.5)\n",
            "Requirement already satisfied: scipy>=1.3.2 in /usr/local/lib/python3.10/dist-packages (from scikit-learn) (1.10.1)\n",
            "Requirement already satisfied: joblib>=1.1.1 in /usr/local/lib/python3.10/dist-packages (from scikit-learn) (1.3.2)\n",
            "Requirement already satisfied: threadpoolctl>=2.0.0 in /usr/local/lib/python3.10/dist-packages (from scikit-learn) (3.2.0)\n",
            "Requirement already satisfied: six>=1.5 in /usr/local/lib/python3.10/dist-packages (from python-dateutil>=2.8.1->pandas) (1.16.0)\n"
          ]
        }
      ],
      "source": [
        "!pip install pytorch-ood\n",
        "!pip install pandas scikit-learn pandas"
      ]
    },
    {
      "cell_type": "code",
      "source": [
        "import pandas as pd\n",
        "import torch\n",
        "from torch.utils.data import DataLoader\n",
        "from torchvision.datasets import CIFAR100, CIFAR10, MNIST, FashionMNIST\n",
        "\n",
        "from pytorch_ood.dataset.img import (\n",
        "    LSUNCrop,\n",
        "    LSUNResize,\n",
        "    Textures,\n",
        "    TinyImageNetCrop,\n",
        "    TinyImageNetResize,\n",
        "    Places365,\n",
        "    TinyImageNet,\n",
        ")\n",
        "\n",
        "from pytorch_ood.detector import (\n",
        "    ODIN,\n",
        "    Mahalanobis,\n",
        "    MaxSoftmax,\n",
        ")\n",
        "\n",
        "from pytorch_ood.model import WideResNet\n",
        "from pytorch_ood.utils import OODMetrics, ToUnknown, fix_random_seed\n",
        "\n",
        "device = torch.device(\"cuda\" if torch.cuda.is_available() else \"cpu\")\n",
        "\n",
        "fix_random_seed(123)\n",
        "\n",
        "trans = WideResNet.transform_for(\"cifar100-pt\")\n",
        "norm_std = WideResNet.norm_std_for(\"cifar100-pt\")"
      ],
      "metadata": {
        "id": "_rgPAnXgYIiv"
      },
      "execution_count": 2,
      "outputs": []
    },
    {
      "cell_type": "code",
      "source": [
        "in_dataset = CIFAR100(root=\"data\", train=False, transform=trans, download=True)\n",
        "test_datasets = [\n",
        "    CIFAR100,\n",
        "    CIFAR10,\n",
        "    MNIST,\n",
        "    FashionMNIST,\n",
        "    LSUNCrop,\n",
        "    LSUNResize,\n",
        "    Textures,\n",
        "    TinyImageNetCrop,\n",
        "    TinyImageNetResize,\n",
        "    Places365,\n",
        "    TinyImageNet,\n",
        "]\n",
        "datasets = {}\n",
        "for test_dataset in test_datasets:\n",
        "    dataset_out_test = test_dataset(root=\"data\", transform=trans, target_transform=ToUnknown(), download=True)\n",
        "    test_loader = DataLoader(in_dataset + dataset_out_test, batch_size=256, num_workers=12)\n",
        "    datasets[test_dataset.__name__] = test_loader"
      ],
      "metadata": {
        "colab": {
          "base_uri": "https://localhost:8080/"
        },
        "id": "n2icRX84kT2d",
        "outputId": "62781977-9d68-497a-fa45-fe0a7f5fd78a"
      },
      "execution_count": 3,
      "outputs": [
        {
          "output_type": "stream",
          "name": "stdout",
          "text": [
            "Downloading https://www.cs.toronto.edu/~kriz/cifar-100-python.tar.gz to data/cifar-100-python.tar.gz\n"
          ]
        },
        {
          "output_type": "stream",
          "name": "stderr",
          "text": [
            "100%|██████████| 169001437/169001437 [00:01<00:00, 102482504.47it/s]\n"
          ]
        },
        {
          "output_type": "stream",
          "name": "stdout",
          "text": [
            "Extracting data/cifar-100-python.tar.gz to data\n",
            "Files already downloaded and verified\n"
          ]
        },
        {
          "output_type": "stream",
          "name": "stderr",
          "text": [
            "/usr/local/lib/python3.10/dist-packages/torch/utils/data/dataloader.py:560: UserWarning: This DataLoader will create 12 worker processes in total. Our suggested max number of worker in current system is 2, which is smaller than what this DataLoader is going to create. Please be aware that excessive worker creation might get DataLoader running slow or even freeze, lower the worker number to avoid potential slowness/freeze if necessary.\n",
            "  warnings.warn(_create_warning_msg(\n"
          ]
        },
        {
          "output_type": "stream",
          "name": "stdout",
          "text": [
            "Downloading https://www.cs.toronto.edu/~kriz/cifar-10-python.tar.gz to data/cifar-10-python.tar.gz\n"
          ]
        },
        {
          "output_type": "stream",
          "name": "stderr",
          "text": [
            "100%|██████████| 170498071/170498071 [00:01<00:00, 88403498.55it/s]\n"
          ]
        },
        {
          "output_type": "stream",
          "name": "stdout",
          "text": [
            "Extracting data/cifar-10-python.tar.gz to data\n",
            "Downloading http://yann.lecun.com/exdb/mnist/train-images-idx3-ubyte.gz\n",
            "Downloading http://yann.lecun.com/exdb/mnist/train-images-idx3-ubyte.gz to data/MNIST/raw/train-images-idx3-ubyte.gz\n"
          ]
        },
        {
          "output_type": "stream",
          "name": "stderr",
          "text": [
            "100%|██████████| 9912422/9912422 [00:00<00:00, 119569388.59it/s]\n"
          ]
        },
        {
          "output_type": "stream",
          "name": "stdout",
          "text": [
            "Extracting data/MNIST/raw/train-images-idx3-ubyte.gz to data/MNIST/raw\n",
            "\n",
            "Downloading http://yann.lecun.com/exdb/mnist/train-labels-idx1-ubyte.gz\n",
            "Downloading http://yann.lecun.com/exdb/mnist/train-labels-idx1-ubyte.gz to data/MNIST/raw/train-labels-idx1-ubyte.gz\n"
          ]
        },
        {
          "output_type": "stream",
          "name": "stderr",
          "text": [
            "100%|██████████| 28881/28881 [00:00<00:00, 27574708.36it/s]\n"
          ]
        },
        {
          "output_type": "stream",
          "name": "stdout",
          "text": [
            "Extracting data/MNIST/raw/train-labels-idx1-ubyte.gz to data/MNIST/raw\n",
            "\n",
            "Downloading http://yann.lecun.com/exdb/mnist/t10k-images-idx3-ubyte.gz\n",
            "Downloading http://yann.lecun.com/exdb/mnist/t10k-images-idx3-ubyte.gz to data/MNIST/raw/t10k-images-idx3-ubyte.gz\n"
          ]
        },
        {
          "output_type": "stream",
          "name": "stderr",
          "text": [
            "100%|██████████| 1648877/1648877 [00:00<00:00, 31934335.94it/s]\n"
          ]
        },
        {
          "output_type": "stream",
          "name": "stdout",
          "text": [
            "Extracting data/MNIST/raw/t10k-images-idx3-ubyte.gz to data/MNIST/raw\n",
            "\n",
            "Downloading http://yann.lecun.com/exdb/mnist/t10k-labels-idx1-ubyte.gz\n",
            "Downloading http://yann.lecun.com/exdb/mnist/t10k-labels-idx1-ubyte.gz to data/MNIST/raw/t10k-labels-idx1-ubyte.gz\n"
          ]
        },
        {
          "output_type": "stream",
          "name": "stderr",
          "text": [
            "100%|██████████| 4542/4542 [00:00<00:00, 7526878.22it/s]"
          ]
        },
        {
          "output_type": "stream",
          "name": "stdout",
          "text": [
            "Extracting data/MNIST/raw/t10k-labels-idx1-ubyte.gz to data/MNIST/raw\n",
            "\n",
            "Downloading http://fashion-mnist.s3-website.eu-central-1.amazonaws.com/train-images-idx3-ubyte.gz\n"
          ]
        },
        {
          "output_type": "stream",
          "name": "stderr",
          "text": [
            "\n"
          ]
        },
        {
          "output_type": "stream",
          "name": "stdout",
          "text": [
            "Downloading http://fashion-mnist.s3-website.eu-central-1.amazonaws.com/train-images-idx3-ubyte.gz to data/FashionMNIST/raw/train-images-idx3-ubyte.gz\n"
          ]
        },
        {
          "output_type": "stream",
          "name": "stderr",
          "text": [
            "100%|██████████| 26421880/26421880 [00:01<00:00, 15848182.70it/s]\n"
          ]
        },
        {
          "output_type": "stream",
          "name": "stdout",
          "text": [
            "Extracting data/FashionMNIST/raw/train-images-idx3-ubyte.gz to data/FashionMNIST/raw\n",
            "\n",
            "Downloading http://fashion-mnist.s3-website.eu-central-1.amazonaws.com/train-labels-idx1-ubyte.gz\n",
            "Downloading http://fashion-mnist.s3-website.eu-central-1.amazonaws.com/train-labels-idx1-ubyte.gz to data/FashionMNIST/raw/train-labels-idx1-ubyte.gz\n"
          ]
        },
        {
          "output_type": "stream",
          "name": "stderr",
          "text": [
            "100%|██████████| 29515/29515 [00:00<00:00, 270175.93it/s]\n"
          ]
        },
        {
          "output_type": "stream",
          "name": "stdout",
          "text": [
            "Extracting data/FashionMNIST/raw/train-labels-idx1-ubyte.gz to data/FashionMNIST/raw\n",
            "\n",
            "Downloading http://fashion-mnist.s3-website.eu-central-1.amazonaws.com/t10k-images-idx3-ubyte.gz\n",
            "Downloading http://fashion-mnist.s3-website.eu-central-1.amazonaws.com/t10k-images-idx3-ubyte.gz to data/FashionMNIST/raw/t10k-images-idx3-ubyte.gz\n"
          ]
        },
        {
          "output_type": "stream",
          "name": "stderr",
          "text": [
            "100%|██████████| 4422102/4422102 [00:00<00:00, 4959506.06it/s]\n"
          ]
        },
        {
          "output_type": "stream",
          "name": "stdout",
          "text": [
            "Extracting data/FashionMNIST/raw/t10k-images-idx3-ubyte.gz to data/FashionMNIST/raw\n",
            "\n",
            "Downloading http://fashion-mnist.s3-website.eu-central-1.amazonaws.com/t10k-labels-idx1-ubyte.gz\n",
            "Downloading http://fashion-mnist.s3-website.eu-central-1.amazonaws.com/t10k-labels-idx1-ubyte.gz to data/FashionMNIST/raw/t10k-labels-idx1-ubyte.gz\n"
          ]
        },
        {
          "output_type": "stream",
          "name": "stderr",
          "text": [
            "100%|██████████| 5148/5148 [00:00<00:00, 5987874.93it/s]\n"
          ]
        },
        {
          "output_type": "stream",
          "name": "stdout",
          "text": [
            "Extracting data/FashionMNIST/raw/t10k-labels-idx1-ubyte.gz to data/FashionMNIST/raw\n",
            "\n",
            "Downloading https://uc20291e877d8f394e58fc6c1ded.dl.dropboxusercontent.com/cd/0/inline2/CCwPxJucP0WhfrsqykTm-lH0mS2ebZ8BXGJdrWNIbcAIJDAl7r4XYVGN4ubz8_bAs-RzQMExfrZaMACGWntYR0EIQxMaHGJrHK4sE3xpNgwKNI2bHUUwiaRlVtvcJh9Ghk1Y9m88O0ZWr8avTP8E0RpgVH0taWnQFWi3208ifppw6mFACQl6QedmnZFRtvX5zs4Gs8zD9YtLxQHg7ZJM3bhFLUJWZobeKD0Yul4skMJbH057Fsk2-nOTe-7AJXOxk_5p6XtoRJFTrl0_BnaC1M0wmBfo9k6O17zWQXQwy0GFNR394ZdJhVxRfTdnAgin6AW3a1ZIoE6bmK00XzAzrSA8pSQJ1BICETSvxPkAbhAZS1jGxVfESQUjdDpkmm171lI/file to data/LSUN.tar.gz\n"
          ]
        },
        {
          "output_type": "stream",
          "name": "stderr",
          "text": [
            "100%|██████████| 17309383/17309383 [00:00<00:00, 31526464.93it/s]\n"
          ]
        },
        {
          "output_type": "stream",
          "name": "stdout",
          "text": [
            "Extracting data/LSUN.tar.gz to data\n",
            "Downloading https://uce1743cbcf2489c19c9e0a576ea.dl.dropboxusercontent.com/cd/0/inline2/CCzbdsh7GZUd1-sc_ajE-mmDTHrhuWiLLSDrQdo4i1za_ls1IuDuzdR8hj43825vktXCW5seOlt_BlAK7d-XBqZnNgCo3fjUbds5H3gqQeJqUN1GvZUy25yJrAJW46yuyzdKg6RDZH-l-JoSKU8TvlF8i8XKpGuS9dWhgJnhWkJwiTZH4s01LP12IlvXz4F1fVgPNAqX-ShBywJOf445gge4iaRg0AbEufl5panpFR6U7Q45yD7rBejJnhM3qvZ2i2qG4HH3-gpLppHArS-6Gk8YXmmuPUdWyfdCLqGstO-0GwwypveDLyRxekmMojcX4QfwXcKengAPWc87awUN1hu3d_W-3u_OxEGU76-6ChPY4zBCNhhgpvsWsD-PE2YAuf8/file to data/LSUN_resize.tar.gz\n"
          ]
        },
        {
          "output_type": "stream",
          "name": "stderr",
          "text": [
            "100%|██████████| 4688973/4688973 [00:00<00:00, 11235441.93it/s]\n"
          ]
        },
        {
          "output_type": "stream",
          "name": "stdout",
          "text": [
            "Extracting data/LSUN_resize.tar.gz to data\n",
            "Downloading https://thor.robots.ox.ac.uk/datasets/dtd/dtd-r1.0.1.tar.gz to data/textures-r1_0_1.tar.gz\n"
          ]
        },
        {
          "output_type": "stream",
          "name": "stderr",
          "text": [
            "100%|██████████| 625239812/625239812 [00:21<00:00, 29412653.29it/s]\n"
          ]
        },
        {
          "output_type": "stream",
          "name": "stdout",
          "text": [
            "Extracting data/textures-r1_0_1.tar.gz to data\n",
            "Downloading https://uc23b8b280f107d041f0f1b282e8.dl.dropboxusercontent.com/cd/0/inline2/CCw7-Q6f-9EkTyr_Tt-R7ZNg9hUBY652fyl56IdmXfA7sDNFcz_WPrNO0j32f8Vr8emXt-vFdG4TPXLU3OTrzLbgsSZjgcO_n8_S3xRalch6RKQlxooBQ5xCFKllFjSVqeJgGVsPboVBzTRHX5us-DKY8F0IpFuBP2-Goh-2guqp_uNCw6qwGgjOsDE1ZQTMu-SB-I3Cei2ZzkzpFn0_w3g3vy8PfqXtsMRmXUvFCeHZHVEUDCeixzQNGHJVo-vMtqyfwbkaWHw-Anb-qJ8cJzmbjJai0UDJIviQNU0NXfnkAqGNoAKvD4U_2jmbKkMVqdIOXaINQCzF0C1M4KYhAAmg2bcf3d7s3Q0cec5iHgoraeNbxNIX9LWsWaKjwbhA-uU/file to data/Imagenet.tar.gz\n"
          ]
        },
        {
          "output_type": "stream",
          "name": "stderr",
          "text": [
            "100%|██████████| 26501958/26501958 [00:00<00:00, 40959283.07it/s]\n"
          ]
        },
        {
          "output_type": "stream",
          "name": "stdout",
          "text": [
            "Extracting data/Imagenet.tar.gz to data\n",
            "Downloading https://ucae71e9375670b324862df54a07.dl.dropboxusercontent.com/cd/0/inline2/CCyAMO-6fQdbU3sinf1lkrBLBSLtYH3w7cTyiMSpMQRhPDLHi_5tYUtpw8Sy7lMIoCkqxICj2s929A7YmWK1kIohGwdFZYiQzFA5Mu94NP-ngpiOJotr9pPYZfhN4u-N3pqg9emxGYXIku6VCNRoqgAnRLpq18IT3f2sWs0i4MLw-QkBeR5P8JOWjWCtXLYPikInMjuFoaWafE64m6FgZyscoeULURbN47X11-LWJA90m1vQMyaxS4Bbg0_3uR7NyR05QaGuEZJENaLBCCDI2g8q_krBNrFyVmc0vegsEo40kFu7BFsquz7MUtVRsyRZyirm1j6ONkhc5IAFsJywRmzvl46O8ShivvzBH6rQgxVd6DLq0inVhIZlr_qGS2Rjd5I/file to data/Imagenet_resize.tar.gz\n"
          ]
        },
        {
          "output_type": "stream",
          "name": "stderr",
          "text": [
            "100%|██████████| 4550980/4550980 [00:00<00:00, 45748385.52it/s]\n"
          ]
        },
        {
          "output_type": "stream",
          "name": "stdout",
          "text": [
            "Extracting data/Imagenet_resize.tar.gz to data\n"
          ]
        },
        {
          "output_type": "stream",
          "name": "stderr",
          "text": [
            "Downloading...\n",
            "From: https://drive.google.com/uc?id=1Ec-LRSTf6u5vEctKX9vRp9OA6tqnJ0Ay\n",
            "To: /content/data/places365.zip\n",
            "100%|██████████| 497M/497M [00:06<00:00, 80.6MB/s]\n"
          ]
        },
        {
          "output_type": "stream",
          "name": "stdout",
          "text": [
            "Downloading http://cs231n.stanford.edu/tiny-imagenet-200.zip to data/tiny-imagenet-200.zip\n"
          ]
        },
        {
          "output_type": "stream",
          "name": "stderr",
          "text": [
            "100%|██████████| 248100043/248100043 [00:05<00:00, 46671787.23it/s]\n"
          ]
        },
        {
          "output_type": "stream",
          "name": "stdout",
          "text": [
            "Extracting data/tiny-imagenet-200.zip to data\n"
          ]
        }
      ]
    },
    {
      "cell_type": "code",
      "source": [
        "model = WideResNet(num_classes=100, pretrained=\"cifar100-pt\").eval().to(device)\n",
        "\n",
        "detectors = {}\n",
        "detectors[\"MSP\"] = MaxSoftmax(model)\n",
        "detectors[\"Mahalanobis\"] = Mahalanobis(model.features)\n",
        "detectors[\"ODIN\"] = ODIN(model, norm_std=norm_std, eps=0.002)\n",
        "\n",
        "print(f\"- Fitting {len(detectors)} detectors -\")\n",
        "loader_in_train = DataLoader(CIFAR100(root=\"data\", train=True, transform=trans), batch_size=256, num_workers=12)\n",
        "for name, detector in detectors.items():\n",
        "    print(f\"  > Fitting {name}\")\n",
        "    detector.fit(loader_in_train, device=device)"
      ],
      "metadata": {
        "colab": {
          "base_uri": "https://localhost:8080/"
        },
        "id": "YoEQoZink0KD",
        "outputId": "ad50e2c5-63ca-4f62-80d0-10c10896d404"
      },
      "execution_count": 4,
      "outputs": [
        {
          "output_type": "stream",
          "name": "stderr",
          "text": [
            "Downloading: \"https://github.com/wetliu/energy_ood/raw/master/CIFAR/snapshots/pretrained/cifar100_wrn_pretrained_epoch_99.pt\" to /root/.cache/torch/hub/checkpoints/wrn-cifar100-pt.pt\n",
            "100%|██████████| 8.66M/8.66M [00:00<00:00, 101MB/s]\n"
          ]
        },
        {
          "output_type": "stream",
          "name": "stdout",
          "text": [
            "- Fitting 3 detectors -\n",
            "  > Fitting MSP\n",
            "  > Fitting Mahalanobis\n",
            "  > Fitting ODIN\n"
          ]
        }
      ]
    },
    {
      "cell_type": "code",
      "source": [
        "results = []\n",
        "\n",
        "with torch.no_grad():\n",
        "    for detector_name, detector in detectors.items():\n",
        "        print(f\"- Evaluating {detector_name} -\")\n",
        "        for dataset_name, loader in datasets.items():\n",
        "            print(f\"  {dataset_name}\")\n",
        "            metrics = OODMetrics()\n",
        "            for x, y in loader:\n",
        "                metrics.update(detector(x.to(device)), y.to(device))\n",
        "\n",
        "            r = {\"Detector\": detector_name, \"Dataset\": dataset_name}\n",
        "            r.update(metrics.compute())\n",
        "            results.append(r)"
      ],
      "metadata": {
        "colab": {
          "base_uri": "https://localhost:8080/"
        },
        "id": "Du5ixtC3sEb2",
        "outputId": "f8e95680-1fc6-4260-b029-e1f71458e908"
      },
      "execution_count": 5,
      "outputs": [
        {
          "output_type": "stream",
          "name": "stdout",
          "text": [
            "- Evaluating MSP -\n",
            "  CIFAR100\n",
            "  CIFAR10\n",
            "  MNIST\n",
            "  FashionMNIST\n",
            "  LSUNCrop\n",
            "  LSUNResize\n",
            "  Textures\n",
            "  TinyImageNetCrop\n",
            "  TinyImageNetResize\n",
            "  Places365\n",
            "  TinyImageNet\n",
            "- Evaluating Mahalanobis -\n",
            "  CIFAR100\n",
            "  CIFAR10\n",
            "  MNIST\n",
            "  FashionMNIST\n",
            "  LSUNCrop\n",
            "  LSUNResize\n",
            "  Textures\n",
            "  TinyImageNetCrop\n",
            "  TinyImageNetResize\n",
            "  Places365\n",
            "  TinyImageNet\n",
            "- Evaluating ODIN -\n",
            "  CIFAR100\n",
            "  CIFAR10\n",
            "  MNIST\n",
            "  FashionMNIST\n",
            "  LSUNCrop\n",
            "  LSUNResize\n",
            "  Textures\n",
            "  TinyImageNetCrop\n",
            "  TinyImageNetResize\n",
            "  Places365\n",
            "  TinyImageNet\n"
          ]
        }
      ]
    },
    {
      "cell_type": "code",
      "source": [
        "df = pd.DataFrame(results).set_index(['Dataset', 'Detector'])\n",
        "print(df)\n",
        "df.to_csv(\"./result/result.csv\")"
      ],
      "metadata": {
        "colab": {
          "base_uri": "https://localhost:8080/"
        },
        "id": "wNoQmYE8yw5m",
        "outputId": "a76ad5b6-9307-44ea-d30a-b1fe9aee0ab1"
      },
      "execution_count": 7,
      "outputs": [
        {
          "output_type": "stream",
          "name": "stdout",
          "text": [
            "                                   AUROC   AUPR-IN  AUPR-OUT  FPR95TPR\n",
            "Dataset            Detector                                           \n",
            "CIFAR100           MSP          0.344688  0.738764  0.133239    0.9542\n",
            "CIFAR10            MSP          0.755213  0.924956  0.500790    0.6427\n",
            "MNIST              MSP          0.746989  0.929356  0.535628    0.5735\n",
            "FashionMNIST       MSP          0.893815  0.976642  0.737556    0.3661\n",
            "LSUNCrop           MSP          0.855878  0.843563  0.874041    0.4713\n",
            "LSUNResize         MSP          0.741252  0.699077  0.773360    0.6496\n",
            "Textures           MSP          0.735491  0.575050  0.831475    0.7139\n",
            "TinyImageNetCrop   MSP          0.863217  0.848073  0.882328    0.4335\n",
            "TinyImageNetResize MSP          0.739807  0.701496  0.767825    0.6605\n",
            "Places365          MSP          0.739189  0.894454  0.500872    0.6991\n",
            "TinyImageNet       MSP          0.764159  0.963127  0.327413    0.6524\n",
            "CIFAR100           Mahalanobis  0.439412  0.803425  0.148923    0.9549\n",
            "CIFAR10            Mahalanobis  0.668224  0.886351  0.303081    0.8327\n",
            "MNIST              Mahalanobis  0.670643  0.882871  0.464924    0.6433\n",
            "FashionMNIST       Mahalanobis  0.711564  0.892800  0.528199    0.5626\n",
            "LSUNCrop           Mahalanobis  0.599354  0.517068  0.659997    0.7937\n",
            "LSUNResize         Mahalanobis  0.949688  0.946740  0.953561    0.2290\n",
            "Textures           Mahalanobis  0.899075  0.851699  0.937140    0.4432\n",
            "TinyImageNetCrop   Mahalanobis  0.664724  0.565613  0.733637    0.6675\n",
            "TinyImageNetResize Mahalanobis  0.937835  0.936929  0.941263    0.2952\n",
            "Places365          Mahalanobis  0.681794  0.864179  0.385201    0.8218\n",
            "TinyImageNet       Mahalanobis  0.720943  0.951617  0.276194    0.7201\n",
            "CIFAR100           ODIN         0.377732  0.765927  0.142332    0.9610\n",
            "CIFAR10            ODIN         0.705062  0.899563  0.430318    0.6983\n",
            "MNIST              ODIN         0.876562  0.972169  0.696125    0.4103\n",
            "FashionMNIST       ODIN         0.909869  0.979665  0.770272    0.3195\n",
            "LSUNCrop           ODIN         0.869123  0.856853  0.887901    0.4273\n",
            "LSUNResize         ODIN         0.802348  0.769335  0.821028    0.5952\n",
            "Textures           ODIN         0.714073  0.570764  0.814349    0.7637\n",
            "TinyImageNetCrop   ODIN         0.868878  0.840068  0.890194    0.4054\n",
            "TinyImageNetResize ODIN         0.803261  0.778561  0.817671    0.6038\n",
            "Places365          ODIN         0.707290  0.871925  0.464963    0.7373\n",
            "TinyImageNet       ODIN         0.713534  0.950417  0.260250    0.7298\n"
          ]
        }
      ]
    }
  ]
}